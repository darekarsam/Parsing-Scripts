{
 "cells": [
  {
   "cell_type": "code",
   "execution_count": 1,
   "metadata": {},
   "outputs": [],
   "source": [
    "import json\n",
    "import gzip\n",
    "import jsonlines\n",
    "import pandas as pd"
   ]
  },
  {
   "cell_type": "code",
   "execution_count": 2,
   "metadata": {},
   "outputs": [],
   "source": [
    "# decoder = json.JSONDecoder()"
   ]
  },
  {
   "cell_type": "code",
   "execution_count": 3,
   "metadata": {},
   "outputs": [],
   "source": [
    "with gzip.GzipFile(\"ida_wrangling_exercise_data.2017-02-13.jsonl.gz\", \"rb\") as f:\n",
    "    stream = f.read().decode('utf-8')"
   ]
  },
  {
   "cell_type": "code",
   "execution_count": 35,
   "metadata": {},
   "outputs": [],
   "source": [
    "# reader = jsonlines.Reader(stream)"
   ]
  },
  {
   "cell_type": "code",
   "execution_count": 8,
   "metadata": {},
   "outputs": [
    {
     "data": {
      "text/plain": [
       "'{\"id\": \"01d68a4c598a45559c06f4df0b3d82cb\", \"record_date\": \"2006-07-08T09:02:13\", \"ssn\": \"xxx-xx-2412\", \"dob\": \"1971-06-30\", \"phone\": \"624-869-4610\", \"email\": \"opark@hotmail.com\", \"name\": {\"firstname\": \"Cynthia\", \"lastname\": \"Dawson\", \"middlename\": \"Claire\"}, \"address\": {\"street\": \"86314 David Pass Apt. 211\", \"city\": \"Hoodburgh\", \"state\": \"RI\", \"zip\": \"83973\"}}\\n{\"id\": \"876ff718291d4397bb1e0477ceee6ad9\", \"record_date\": \"2009-03-28T20:22:57\", \"ssn\": \"xxx-xx-8025\", \"dob\": \"1965-09-09\", \"phone\": \"1-594-462-7759\", \"email\": \"sperez@armstrong.com\", \"name\": {\"firstname\": \"Tamara\", \"lastname\": \"Myers\"}, \"address\": \"20722 Coleman Villages\\\\nEast Rose, SC 71064-5894\"}\\n{\"id\": \"81753097bf7e4e2085982f422bdb9cda\", \"record_date\": \"2016-08-30T20:31:39\", \"ssn\": \"xxx-xx-0568\", \"dob\": \"1993-04-12\", \"phone\": \"472.218.5065x389\", \"email\": \"uortiz@gmail.com\", \"name\": {\"firstname\": \"Jamie\", \"lastname\": \"Alexander\"}, \"address\": {\"street\": \"6676 Young Square\", \"city\": \"New Julie\", \"state\": \"UT\", \"zip\": \"73125\"}}\\n{'"
      ]
     },
     "execution_count": 8,
     "metadata": {},
     "output_type": "execute_result"
    }
   ],
   "source": [
    "stream[:1000]"
   ]
  },
  {
   "cell_type": "code",
   "execution_count": 5,
   "metadata": {},
   "outputs": [],
   "source": [
    "df = pd.read_json(stream, lines=True)"
   ]
  },
  {
   "cell_type": "code",
   "execution_count": 6,
   "metadata": {},
   "outputs": [
    {
     "data": {
      "text/html": [
       "<div>\n",
       "<style scoped>\n",
       "    .dataframe tbody tr th:only-of-type {\n",
       "        vertical-align: middle;\n",
       "    }\n",
       "\n",
       "    .dataframe tbody tr th {\n",
       "        vertical-align: top;\n",
       "    }\n",
       "\n",
       "    .dataframe thead th {\n",
       "        text-align: right;\n",
       "    }\n",
       "</style>\n",
       "<table border=\"1\" class=\"dataframe\">\n",
       "  <thead>\n",
       "    <tr style=\"text-align: right;\">\n",
       "      <th></th>\n",
       "      <th>address</th>\n",
       "      <th>dob</th>\n",
       "      <th>email</th>\n",
       "      <th>id</th>\n",
       "      <th>name</th>\n",
       "      <th>phone</th>\n",
       "      <th>record_date</th>\n",
       "      <th>ssn</th>\n",
       "    </tr>\n",
       "  </thead>\n",
       "  <tbody>\n",
       "    <tr>\n",
       "      <th>0</th>\n",
       "      <td>{'street': '86314 David Pass Apt. 211', 'city'...</td>\n",
       "      <td>1971-06-30</td>\n",
       "      <td>opark@hotmail.com</td>\n",
       "      <td>01d68a4c598a45559c06f4df0b3d82cb</td>\n",
       "      <td>{'firstname': 'Cynthia', 'lastname': 'Dawson',...</td>\n",
       "      <td>624-869-4610</td>\n",
       "      <td>2006-07-08T09:02:13</td>\n",
       "      <td>xxx-xx-2412</td>\n",
       "    </tr>\n",
       "    <tr>\n",
       "      <th>1</th>\n",
       "      <td>20722 Coleman Villages\\nEast Rose, SC 71064-5894</td>\n",
       "      <td>1965-09-09</td>\n",
       "      <td>sperez@armstrong.com</td>\n",
       "      <td>876ff718291d4397bb1e0477ceee6ad9</td>\n",
       "      <td>{'firstname': 'Tamara', 'lastname': 'Myers'}</td>\n",
       "      <td>1-594-462-7759</td>\n",
       "      <td>2009-03-28T20:22:57</td>\n",
       "      <td>xxx-xx-8025</td>\n",
       "    </tr>\n",
       "    <tr>\n",
       "      <th>2</th>\n",
       "      <td>{'street': '6676 Young Square', 'city': 'New J...</td>\n",
       "      <td>1993-04-12</td>\n",
       "      <td>uortiz@gmail.com</td>\n",
       "      <td>81753097bf7e4e2085982f422bdb9cda</td>\n",
       "      <td>{'firstname': 'Jamie', 'lastname': 'Alexander'}</td>\n",
       "      <td>472.218.5065x389</td>\n",
       "      <td>2016-08-30T20:31:39</td>\n",
       "      <td>xxx-xx-0568</td>\n",
       "    </tr>\n",
       "    <tr>\n",
       "      <th>3</th>\n",
       "      <td>0932 Gomez Drives\\nLeefort, MD 46879-3166</td>\n",
       "      <td>1977-04-14</td>\n",
       "      <td>palmerdiane@yahoo.com</td>\n",
       "      <td>2c2f7154b80f40ca80d08c5adc54ea45</td>\n",
       "      <td>{'firstname': 'Angela', 'lastname': 'Garcia', ...</td>\n",
       "      <td>1-663-109-4460x1080</td>\n",
       "      <td>2001-02-15T18:50:35</td>\n",
       "      <td>xxx-xx-9825</td>\n",
       "    </tr>\n",
       "    <tr>\n",
       "      <th>4</th>\n",
       "      <td>{'street': '158 Smith Vista', 'city': 'East Sh...</td>\n",
       "      <td>1970-03-19</td>\n",
       "      <td>nancymaxwell@gmail.com</td>\n",
       "      <td>4f5263f339694d068e17ee7fdbb852b8</td>\n",
       "      <td>{'firstname': 'Jennifer', 'lastname': 'Rodrigu...</td>\n",
       "      <td>233-423-3823</td>\n",
       "      <td>2014-06-21T14:36:01</td>\n",
       "      <td>xxx-xx-9104</td>\n",
       "    </tr>\n",
       "  </tbody>\n",
       "</table>\n",
       "</div>"
      ],
      "text/plain": [
       "                                             address         dob  \\\n",
       "0  {'street': '86314 David Pass Apt. 211', 'city'...  1971-06-30   \n",
       "1   20722 Coleman Villages\\nEast Rose, SC 71064-5894  1965-09-09   \n",
       "2  {'street': '6676 Young Square', 'city': 'New J...  1993-04-12   \n",
       "3          0932 Gomez Drives\\nLeefort, MD 46879-3166  1977-04-14   \n",
       "4  {'street': '158 Smith Vista', 'city': 'East Sh...  1970-03-19   \n",
       "\n",
       "                    email                                id  \\\n",
       "0       opark@hotmail.com  01d68a4c598a45559c06f4df0b3d82cb   \n",
       "1    sperez@armstrong.com  876ff718291d4397bb1e0477ceee6ad9   \n",
       "2        uortiz@gmail.com  81753097bf7e4e2085982f422bdb9cda   \n",
       "3   palmerdiane@yahoo.com  2c2f7154b80f40ca80d08c5adc54ea45   \n",
       "4  nancymaxwell@gmail.com  4f5263f339694d068e17ee7fdbb852b8   \n",
       "\n",
       "                                                name                phone  \\\n",
       "0  {'firstname': 'Cynthia', 'lastname': 'Dawson',...         624-869-4610   \n",
       "1       {'firstname': 'Tamara', 'lastname': 'Myers'}       1-594-462-7759   \n",
       "2    {'firstname': 'Jamie', 'lastname': 'Alexander'}     472.218.5065x389   \n",
       "3  {'firstname': 'Angela', 'lastname': 'Garcia', ...  1-663-109-4460x1080   \n",
       "4  {'firstname': 'Jennifer', 'lastname': 'Rodrigu...         233-423-3823   \n",
       "\n",
       "           record_date          ssn  \n",
       "0  2006-07-08T09:02:13  xxx-xx-2412  \n",
       "1  2009-03-28T20:22:57  xxx-xx-8025  \n",
       "2  2016-08-30T20:31:39  xxx-xx-0568  \n",
       "3  2001-02-15T18:50:35  xxx-xx-9825  \n",
       "4  2014-06-21T14:36:01  xxx-xx-9104  "
      ]
     },
     "execution_count": 6,
     "metadata": {},
     "output_type": "execute_result"
    }
   ],
   "source": [
    "df.head()"
   ]
  },
  {
   "cell_type": "code",
   "execution_count": null,
   "metadata": {},
   "outputs": [],
   "source": []
  }
 ],
 "metadata": {
  "kernelspec": {
   "display_name": "Python 3",
   "language": "python",
   "name": "python3"
  },
  "language_info": {
   "codemirror_mode": {
    "name": "ipython",
    "version": 3
   },
   "file_extension": ".py",
   "mimetype": "text/x-python",
   "name": "python",
   "nbconvert_exporter": "python",
   "pygments_lexer": "ipython3",
   "version": "3.6.3"
  }
 },
 "nbformat": 4,
 "nbformat_minor": 2
}
